{
 "cells": [
  {
   "cell_type": "code",
   "execution_count": null,
   "id": "481a7d66",
   "metadata": {},
   "outputs": [
    {
     "ename": "",
     "evalue": "",
     "output_type": "error",
     "traceback": [
      "\u001b[1;31mRunning cells with 'Python 3.12.3' requires the ipykernel package.\n",
      "\u001b[1;31m<a href='command:jupyter.createPythonEnvAndSelectController'>Create a Python Environment</a> with the required packages.\n",
      "\u001b[1;31mOr install 'ipykernel' using the command: '/bin/python3 -m pip install ipykernel -U --user --force-reinstall'"
     ]
    }
   ],
   "source": [
    "import matplotlib.pyplot as plt\n",
    "\n",
    "# 1º gráfico univariado: Histograma da variável Glucose\n",
    "plt.figure(figsize=(8,5))\n",
    "plt.hist(df['Glucose'], bins=30, edgecolor='black')\n",
    "plt.title('Distribuição da Glicose')\n",
    "plt.xlabel('Glucose')\n",
    "plt.ylabel('Frequência')\n",
    "plt.show()\n",
    "\n",
    "# 2º gráfico univariado: Boxplot da variável BMI\n",
    "plt.figure(figsize=(6,5))\n",
    "plt.boxplot(df['BMI'], vert=True)\n",
    "plt.title('Boxplot do Índice de Massa Corporal (BMI)')\n",
    "plt.ylabel('BMI')\n",
    "plt.show()\n"
   ]
  }
 ],
 "metadata": {
  "kernelspec": {
   "display_name": "Python 3",
   "language": "python",
   "name": "python3"
  },
  "language_info": {
   "name": "python",
   "version": "3.12.3"
  }
 },
 "nbformat": 4,
 "nbformat_minor": 5
}
