{
 "cells": [
  {
   "cell_type": "code",
   "execution_count": null,
   "id": "9612d2ba",
   "metadata": {
    "vscode": {
     "languageId": "plaintext"
    }
   },
   "outputs": [],
   "source": [
    "import pandas as pd\n",
    "import matplotlib.pyplot as plt\n",
    "import seaborn as sns\n",
    "\n"
   ]
  },
  {
   "cell_type": "code",
   "execution_count": null,
   "id": "c372a87f",
   "metadata": {
    "vscode": {
     "languageId": "plaintext"
    }
   },
   "outputs": [],
   "source": [
    "import pandas as pd\n",
    "import matplotlib.pyplot as plt\n",
    "import seaborn as sns\n",
    "\n",
    "column_names = [\"Date\", \"Time\", \"Home_Team\", \"Score\", \"Away_Team\", \"Audience\", \"Stadium\"]\n",
    "df = pd.read_csv(\"/home/ubuntu/upload/Brasileiro2024(SrieA)-Dataset-Final.csv\", header=None, names=column_names)\n",
    "\n",
    "df[\"Audience\"] = df[\"Audience\"].str.replace(\",\", \"\", regex=False).astype(float)\n",
    "\n",
    "df[[\"Home_Score\", \"Away_Score\"]] = df[\"Score\"].str.split(\"–\", expand=True)\n",
    "df[\"Home_Score\"] = pd.to_numeric(df[\"Home_Score\"])\n",
    "df[\"Away_Score\"] = pd.to_numeric(df[\"Away_Score\"])\n",
    "df[\"Total_Goals\"] = df[\"Home_Score\"] + df[\"Away_Score\"]\n"
   ]
  }
 ],
 "metadata": {
  "language_info": {
   "name": "python"
  }
 },
 "nbformat": 4,
 "nbformat_minor": 5
}
